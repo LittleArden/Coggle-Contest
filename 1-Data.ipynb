{
 "cells": [  
  {
   "cell_type": "code",
   "execution_count": 9,
   "metadata": {
    "execution": {
     "iopub.execute_input": "2022-06-28T02:19:35.741941Z",
     "iopub.status.busy": "2022-06-28T02:19:35.741382Z",
     "iopub.status.idle": "2022-06-28T02:19:36.121595Z",
     "shell.execute_reply": "2022-06-28T02:19:36.120753Z",
     "shell.execute_reply.started": "2022-06-28T02:19:35.741898Z"
    },
    "scrolled": true,
    "tags": []
   },
   "outputs": [],
   "source": [
    "import pandas as pd\r\n",
    "\r\n",
    "train_cn = pd.read_excel('data/汽车领域多语种迁移学习挑战赛初赛训练集/中文_trian.xlsx')\r\n",
    "train_ja = pd.read_excel('data/汽车领域多语种迁移学习挑战赛初赛训练集/日语_train.xlsx')\r\n",
    "train_en = pd.read_excel('data/汽车领域多语种迁移学习挑战赛初赛训练集/英文_train.xlsx')\r\n",
    "test_ja = pd.read_excel('data/testA.xlsx', sheet_name='日语_testA')\r\n",
    "test_en = pd.read_excel('data/testA.xlsx', sheet_name='英文_testA')"
   ]
  },
  {
   "cell_type": "code",
   "execution_count": 21,
   "metadata": {
    "execution": {
     "iopub.execute_input": "2022-06-28T02:23:39.043614Z",
     "iopub.status.busy": "2022-06-28T02:23:39.042633Z",
     "iopub.status.idle": "2022-06-28T02:23:39.049634Z",
     "shell.execute_reply": "2022-06-28T02:23:39.048859Z",
     "shell.execute_reply.started": "2022-06-28T02:23:39.043575Z"
    },
    "scrolled": true,
    "tags": []
   },
   "outputs": [
    {
     "name": "stdout",
     "output_type": "stream",
     "text": [
      "Index(['原始文本', '中文翻译', '意图', '槽值1', '槽值2'], dtype='object')\n",
      "原始文本 : <class 'str'>\n",
      "中文翻译 : <class 'str'>\n",
      "意图 : <class 'str'>\n",
      "槽值1 : <class 'float'>\n",
      "槽值2 : <class 'float'>\n"
     ]
    }
   ],
   "source": [
    "# 查看每列字段类型\r\n",
    "train_obj = train_en.columns\r\n",
    "print(train_obj)\r\n",
    "for col in train_obj:\r\n",
    "    print(col+' : '+str(type(train_en[col][0])))"
   ]
  },
  {
   "cell_type": "code",
   "execution_count": 18,
   "metadata": {
    "execution": {
     "iopub.execute_input": "2022-06-28T02:22:49.455439Z",
     "iopub.status.busy": "2022-06-28T02:22:49.455107Z",
     "iopub.status.idle": "2022-06-28T02:22:49.461890Z",
     "shell.execute_reply": "2022-06-28T02:22:49.461037Z",
     "shell.execute_reply.started": "2022-06-28T02:22:49.455408Z"
    },
    "scrolled": true,
    "tags": []
   },
   "outputs": [
    {
     "name": "stdout",
     "output_type": "stream",
     "text": [
      "Index(['原始文本'], dtype='object')\n",
      "原始文本 : <class 'str'>\n"
     ]
    }
   ],
   "source": [
    "# 查看每列字段类型\r\n",
    "test_obj = test_en.columns\r\n",
    "print(test_obj)\r\n",
    "for col in test_obj:\r\n",
    "    print(col+' : '+str(type(test_en[col][0])))"
   ]
  }
 ],
 "metadata": {
  "kernelspec": {
   "display_name": "Python 3",
   "language": "python",
   "name": "py35-paddle1.2.0"
  },
  "language_info": {
   "codemirror_mode": {
    "name": "ipython",
    "version": 3
   },
   "file_extension": ".py",
   "mimetype": "text/x-python",
   "name": "python",
   "nbconvert_exporter": "python",
   "pygments_lexer": "ipython3",
   "version": "3.7.4"
  }
 },
 "nbformat": 4,
 "nbformat_minor": 4
}
