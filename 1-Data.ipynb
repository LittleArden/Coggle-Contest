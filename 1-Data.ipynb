{
 "cells": [
  {
   "cell_type": "code",
   "execution_count": 2,
   "metadata": {
    "collapsed": false,
    "execution": {
     "iopub.execute_input": "2022-06-28T02:13:35.494785Z",
     "iopub.status.busy": "2022-06-28T02:13:35.493677Z",
     "iopub.status.idle": "2022-06-28T02:13:35.735052Z",
     "shell.execute_reply": "2022-06-28T02:13:35.733975Z",
     "shell.execute_reply.started": "2022-06-28T02:13:35.494736Z"
    },
    "jupyter": {
     "outputs_hidden": false
    },
    "scrolled": true,
    "tags": []
   },
   "outputs": [],
   "source": [
    "# 查看工作区文件, 该目录下的变更将会持久保存. 请及时清理不必要的文件, 避免加载过慢.\n",
    "# View personal work directory. \n",
    "# All changes under this directory will be kept even after reset. \n",
    "# Please clean unnecessary files in time to speed up environment loading. \n",
    "!ls /home/aistudio/work"
   ]
  },
  {
   "cell_type": "code",
   "execution_count": 3,
   "metadata": {
    "collapsed": false,
    "execution": {
     "iopub.execute_input": "2022-06-28T02:13:36.926031Z",
     "iopub.status.busy": "2022-06-28T02:13:36.924854Z",
     "iopub.status.idle": "2022-06-28T02:13:39.803977Z",
     "shell.execute_reply": "2022-06-28T02:13:39.803133Z",
     "shell.execute_reply.started": "2022-06-28T02:13:36.925975Z"
    },
    "jupyter": {
     "outputs_hidden": false
    },
    "scrolled": true,
    "tags": []
   },
   "outputs": [
    {
     "name": "stdout",
     "output_type": "stream",
     "text": [
      "Looking in indexes: https://pypi.tuna.tsinghua.edu.cn/simple\n",
      "Collecting beautifulsoup4\n",
      "  Downloading https://pypi.tuna.tsinghua.edu.cn/packages/9c/d8/909c4089dbe4ade9f9705f143c9f13f065049a9d5e7d34c828aefdd0a97c/beautifulsoup4-4.11.1-py3-none-any.whl (128 kB)\n",
      "\u001b[2K     \u001b[90m━━━━━━━━━━━━━━━━━━━━━━━━━━━━━━━━━━━━━━━\u001b[0m \u001b[32m128.2/128.2 KB\u001b[0m \u001b[31m4.6 MB/s\u001b[0m eta \u001b[36m0:00:00\u001b[0m\n",
      "\u001b[?25hCollecting soupsieve>1.2\n",
      "  Downloading https://pypi.tuna.tsinghua.edu.cn/packages/16/e3/4ad79882b92617e3a4a0df1960d6bce08edfb637737ac5c3f3ba29022e25/soupsieve-2.3.2.post1-py3-none-any.whl (37 kB)\n",
      "Installing collected packages: soupsieve, beautifulsoup4\n",
      "Successfully installed beautifulsoup4-4.11.1 soupsieve-2.3.2.post1\n",
      "\u001b[33mWARNING: You are using pip version 22.0.4; however, version 22.1.2 is available.\n",
      "You should consider upgrading via the '/opt/conda/envs/python35-paddle120-env/bin/python -m pip install --upgrade pip' command.\u001b[0m\u001b[33m\n",
      "\u001b[0m"
     ]
    }
   ],
   "source": [
    "# 如果需要进行持久化安装, 需要使用持久化路径, 如下方代码示例:\n",
    "# If a persistence installation is required, \n",
    "# you need to use the persistence path as the following: \n",
    "!mkdir /home/aistudio/external-libraries\n",
    "!pip install beautifulsoup4 -t /home/aistudio/external-libraries"
   ]
  },
  {
   "cell_type": "code",
   "execution_count": 4,
   "metadata": {
    "collapsed": false,
    "execution": {
     "iopub.execute_input": "2022-06-28T02:13:43.973170Z",
     "iopub.status.busy": "2022-06-28T02:13:43.972610Z",
     "iopub.status.idle": "2022-06-28T02:13:43.977361Z",
     "shell.execute_reply": "2022-06-28T02:13:43.976753Z",
     "shell.execute_reply.started": "2022-06-28T02:13:43.973136Z"
    },
    "jupyter": {
     "outputs_hidden": false
    },
    "scrolled": true,
    "tags": []
   },
   "outputs": [],
   "source": [
    "# 同时添加如下代码, 这样每次环境(kernel)启动的时候只要运行下方代码即可: \n",
    "# Also add the following code, \n",
    "# so that every time the environment (kernel) starts, \n",
    "# just run the following code: \n",
    "import sys \n",
    "sys.path.append('/home/aistudio/external-libraries')"
   ]
  },
  {
   "cell_type": "markdown",
   "metadata": {},
   "source": [
    "请点击[此处](https://ai.baidu.com/docs#/AIStudio_Project_Notebook/a38e5576)查看本环境基本用法.  <br>\n",
    "Please click [here ](https://ai.baidu.com/docs#/AIStudio_Project_Notebook/a38e5576) for more detailed instructions. "
   ]
  },
  {
   "cell_type": "code",
   "execution_count": 9,
   "metadata": {
    "execution": {
     "iopub.execute_input": "2022-06-28T02:19:35.741941Z",
     "iopub.status.busy": "2022-06-28T02:19:35.741382Z",
     "iopub.status.idle": "2022-06-28T02:19:36.121595Z",
     "shell.execute_reply": "2022-06-28T02:19:36.120753Z",
     "shell.execute_reply.started": "2022-06-28T02:19:35.741898Z"
    },
    "scrolled": true,
    "tags": []
   },
   "outputs": [],
   "source": [
    "import pandas as pd\r\n",
    "\r\n",
    "train_cn = pd.read_excel('data/汽车领域多语种迁移学习挑战赛初赛训练集/中文_trian.xlsx')\r\n",
    "train_ja = pd.read_excel('data/汽车领域多语种迁移学习挑战赛初赛训练集/日语_train.xlsx')\r\n",
    "train_en = pd.read_excel('data/汽车领域多语种迁移学习挑战赛初赛训练集/英文_train.xlsx')\r\n",
    "test_ja = pd.read_excel('data/testA.xlsx', sheet_name='日语_testA')\r\n",
    "test_en = pd.read_excel('data/testA.xlsx', sheet_name='英文_testA')"
   ]
  },
  {
   "cell_type": "code",
   "execution_count": 21,
   "metadata": {
    "execution": {
     "iopub.execute_input": "2022-06-28T02:23:39.043614Z",
     "iopub.status.busy": "2022-06-28T02:23:39.042633Z",
     "iopub.status.idle": "2022-06-28T02:23:39.049634Z",
     "shell.execute_reply": "2022-06-28T02:23:39.048859Z",
     "shell.execute_reply.started": "2022-06-28T02:23:39.043575Z"
    },
    "scrolled": true,
    "tags": []
   },
   "outputs": [
    {
     "name": "stdout",
     "output_type": "stream",
     "text": [
      "Index(['原始文本', '中文翻译', '意图', '槽值1', '槽值2'], dtype='object')\n",
      "原始文本 : <class 'str'>\n",
      "中文翻译 : <class 'str'>\n",
      "意图 : <class 'str'>\n",
      "槽值1 : <class 'float'>\n",
      "槽值2 : <class 'float'>\n"
     ]
    }
   ],
   "source": [
    "# 查看每列字段类型\r\n",
    "train_obj = train_en.columns\r\n",
    "print(train_obj)\r\n",
    "for col in train_obj:\r\n",
    "    print(col+' : '+str(type(train_en[col][0])))"
   ]
  },
  {
   "cell_type": "code",
   "execution_count": 18,
   "metadata": {
    "execution": {
     "iopub.execute_input": "2022-06-28T02:22:49.455439Z",
     "iopub.status.busy": "2022-06-28T02:22:49.455107Z",
     "iopub.status.idle": "2022-06-28T02:22:49.461890Z",
     "shell.execute_reply": "2022-06-28T02:22:49.461037Z",
     "shell.execute_reply.started": "2022-06-28T02:22:49.455408Z"
    },
    "scrolled": true,
    "tags": []
   },
   "outputs": [
    {
     "name": "stdout",
     "output_type": "stream",
     "text": [
      "Index(['原始文本'], dtype='object')\n",
      "原始文本 : <class 'str'>\n"
     ]
    }
   ],
   "source": [
    "# 查看每列字段类型\r\n",
    "test_obj = test_en.columns\r\n",
    "print(test_obj)\r\n",
    "for col in test_obj:\r\n",
    "    print(col+' : '+str(type(test_en[col][0])))"
   ]
  }
 ],
 "metadata": {
  "kernelspec": {
   "display_name": "Python 3",
   "language": "python",
   "name": "py35-paddle1.2.0"
  },
  "language_info": {
   "codemirror_mode": {
    "name": "ipython",
    "version": 3
   },
   "file_extension": ".py",
   "mimetype": "text/x-python",
   "name": "python",
   "nbconvert_exporter": "python",
   "pygments_lexer": "ipython3",
   "version": "3.7.4"
  }
 },
 "nbformat": 4,
 "nbformat_minor": 4
}
